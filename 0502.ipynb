{
 "cells": [
  {
   "cell_type": "markdown",
   "metadata": {},
   "source": [
    "# Numpy"
   ]
  },
  {
   "cell_type": "code",
   "execution_count": 2,
   "metadata": {},
   "outputs": [],
   "source": [
    "import numpy as np"
   ]
  },
  {
   "cell_type": "code",
   "execution_count": 18,
   "metadata": {},
   "outputs": [],
   "source": [
    "def print_obj(obj, name):\n",
    "    print(\"%s: \\n%s\\n\" % (name, obj))\n",
    "\n",
    "def check_each(a, b):\n",
    "    return (a == b).astype('bool')\n",
    "\n",
    "def check_mean(a, b):\n",
    "    return np.mean(a == b).astype('bool')"
   ]
  },
  {
   "cell_type": "code",
   "execution_count": 19,
   "metadata": {},
   "outputs": [],
   "source": [
    "a = np.array(1.)\n",
    "b = np.array([1., 2., 3.])\n",
    "c = np.array([[1., 2., 3.], [4., 5., 6.]])"
   ]
  },
  {
   "cell_type": "code",
   "execution_count": 20,
   "metadata": {},
   "outputs": [
    {
     "name": "stdout",
     "output_type": "stream",
     "text": [
      "a: \n",
      "1.0\n",
      "\n",
      "a.ndim: \n",
      "0\n",
      "\n",
      "c.ndim: \n",
      "2\n",
      "\n",
      "c.shape: \n",
      "(2, 3)\n",
      "\n"
     ]
    }
   ],
   "source": [
    "print_obj(a, 'a')\n",
    "print_obj(a.ndim, 'a.ndim')\n",
    "print_obj(c.ndim, 'c.ndim')\n",
    "print_obj(c.shape, 'c.shape')"
   ]
  },
  {
   "cell_type": "code",
   "execution_count": 25,
   "metadata": {},
   "outputs": [],
   "source": [
    "d = np.array([[[1., 2., 3], [4., 5., 6.,]], [[7., 8., 9.,], [10., 11., 12]]])\n",
    "e = np.array([[[1, 2, 3, 4]], [[5, 6, 7, 8]]])\n"
   ]
  },
  {
   "cell_type": "code",
   "execution_count": 26,
   "metadata": {},
   "outputs": [
    {
     "name": "stdout",
     "output_type": "stream",
     "text": [
      "d: \n",
      "[[[ 1.  2.  3.]\n",
      "  [ 4.  5.  6.]]\n",
      "\n",
      " [[ 7.  8.  9.]\n",
      "  [10. 11. 12.]]]\n",
      "\n",
      "d.ndim: \n",
      "3\n",
      "\n",
      "d.shape: \n",
      "(2, 2, 3)\n",
      "\n"
     ]
    }
   ],
   "source": [
    "print_obj(d, 'd')\n",
    "print_obj(d.ndim, 'd.ndim')\n",
    "print_obj(d.shape, 'd.shape')"
   ]
  },
  {
   "cell_type": "code",
   "execution_count": 27,
   "metadata": {},
   "outputs": [
    {
     "name": "stdout",
     "output_type": "stream",
     "text": [
      "e: \n",
      "[[[1 2 3 4]]\n",
      "\n",
      " [[5 6 7 8]]]\n",
      "\n",
      "e.ndim: \n",
      "3\n",
      "\n",
      "e.shape: \n",
      "(2, 1, 4)\n",
      "\n"
     ]
    }
   ],
   "source": [
    "print_obj(e, 'e')\n",
    "print_obj(e.ndim, 'e.ndim')\n",
    "print_obj(e.shape, 'e.shape')   # shape: 밖에서부터 안쪽으로 들어옴"
   ]
  },
  {
   "cell_type": "code",
   "execution_count": 29,
   "metadata": {},
   "outputs": [
    {
     "data": {
      "text/plain": [
       "array([1., 1., 1., 1., 1., 1., 1., 1., 1., 1.])"
      ]
     },
     "execution_count": 29,
     "metadata": {},
     "output_type": "execute_result"
    }
   ],
   "source": [
    "a = np.ones(10)\n",
    "a"
   ]
  },
  {
   "cell_type": "code",
   "execution_count": 33,
   "metadata": {},
   "outputs": [
    {
     "data": {
      "text/plain": [
       "array([[0., 0., 0., 0.],\n",
       "       [0., 0., 0., 0.],\n",
       "       [0., 0., 0., 0.]])"
      ]
     },
     "execution_count": 33,
     "metadata": {},
     "output_type": "execute_result"
    }
   ],
   "source": [
    "a = np.zeros((3, 4))\n",
    "a"
   ]
  },
  {
   "cell_type": "code",
   "execution_count": 38,
   "metadata": {},
   "outputs": [
    {
     "data": {
      "text/plain": [
       "array([[7, 7, 7, 7, 7],\n",
       "       [7, 7, 7, 7, 7],\n",
       "       [7, 7, 7, 7, 7]])"
      ]
     },
     "execution_count": 38,
     "metadata": {},
     "output_type": "execute_result"
    }
   ],
   "source": [
    "a = np.full((3, 5), 7)   # 첫 번째 인자: decides SHAPE of matrix\n",
    "                         # 두 번째 인자: the NUMBER that will go in to spaces\n",
    "                         \n",
    "a"
   ]
  },
  {
   "cell_type": "code",
   "execution_count": 48,
   "metadata": {},
   "outputs": [
    {
     "data": {
      "text/plain": [
       "array([[[0.48355114, 0.43653739, 0.17226677, 0.01260964],\n",
       "        [0.57471239, 0.7376216 , 0.5097043 , 0.97530743],\n",
       "        [0.19253243, 0.85712367, 0.66700361, 0.07775156]],\n",
       "\n",
       "       [[0.34077866, 0.28846376, 0.99326642, 0.7923597 ],\n",
       "        [0.94536493, 0.0720574 , 0.19379607, 0.5633327 ],\n",
       "        [0.14708962, 0.71779335, 0.82093984, 0.25409311]]])"
      ]
     },
     "execution_count": 48,
     "metadata": {},
     "output_type": "execute_result"
    }
   ],
   "source": [
    "a = np.random.random((2, 3, 4))\n",
    "a"
   ]
  },
  {
   "cell_type": "code",
   "execution_count": 49,
   "metadata": {},
   "outputs": [
    {
     "data": {
      "text/plain": [
       "array([0, 1, 2, 3, 4, 5, 6, 7, 8, 9])"
      ]
     },
     "execution_count": 49,
     "metadata": {},
     "output_type": "execute_result"
    }
   ],
   "source": [
    "a = np.arange(10)\n",
    "a"
   ]
  },
  {
   "cell_type": "code",
   "execution_count": 50,
   "metadata": {},
   "outputs": [
    {
     "data": {
      "text/plain": [
       "array([0., 1., 2., 3., 4., 5., 6., 7., 8., 9.])"
      ]
     },
     "execution_count": 50,
     "metadata": {},
     "output_type": "execute_result"
    }
   ],
   "source": [
    "a = np.arange(10).astype(float)\n",
    "a"
   ]
  },
  {
   "cell_type": "code",
   "execution_count": 51,
   "metadata": {},
   "outputs": [
    {
     "data": {
      "text/plain": [
       "array([[0, 1],\n",
       "       [2, 3],\n",
       "       [4, 5],\n",
       "       [6, 7],\n",
       "       [8, 9]])"
      ]
     },
     "execution_count": 51,
     "metadata": {},
     "output_type": "execute_result"
    }
   ],
   "source": [
    "a = np.arange(10).reshape(5, 2)\n",
    "a"
   ]
  },
  {
   "cell_type": "code",
   "execution_count": 55,
   "metadata": {},
   "outputs": [
    {
     "data": {
      "text/plain": [
       "array([[[ 0.,  1.],\n",
       "        [ 2.,  3.],\n",
       "        [ 4.,  5.]],\n",
       "\n",
       "       [[ 6.,  7.],\n",
       "        [ 8.,  9.],\n",
       "        [10., 11.]],\n",
       "\n",
       "       [[12., 13.],\n",
       "        [14., 15.],\n",
       "        [16., 17.]],\n",
       "\n",
       "       [[18., 19.],\n",
       "        [20., 21.],\n",
       "        [22., 23.]]])"
      ]
     },
     "execution_count": 55,
     "metadata": {},
     "output_type": "execute_result"
    }
   ],
   "source": [
    "# quiz\n",
    "a = np.arange(24).astype(float).reshape(4, 3, 2)\n",
    "a"
   ]
  },
  {
   "cell_type": "code",
   "execution_count": 56,
   "metadata": {},
   "outputs": [],
   "source": [
    "a = np.arange(10)"
   ]
  },
  {
   "cell_type": "code",
   "execution_count": 67,
   "metadata": {},
   "outputs": [
    {
     "name": "stdout",
     "output_type": "stream",
     "text": [
      "[0 1 2 3 4 5 6 7 8 9]\n",
      "[6 7 8 9]\n",
      "[0 1]\n",
      "[0 2 4 6 8]\n",
      "[9 8 7 6 5 4 3 2 1 0]\n",
      "[8 7 6]\n",
      "[9 6 3]\n"
     ]
    }
   ],
   "source": [
    "print(a[:])\n",
    "print(a[-4:])\n",
    "print(a[:-8])\n",
    "\n",
    "print(a[0:10:2])     # start : end : step\n",
    "print(a[::-1])\n",
    "print(a[8:5:-1])\n",
    "\n",
    "# quiz\n",
    "print(a[:2:-3])"
   ]
  },
  {
   "cell_type": "code",
   "execution_count": 92,
   "metadata": {},
   "outputs": [
    {
     "name": "stdout",
     "output_type": "stream",
     "text": [
      "[6 7 8]\n",
      "[5 8]\n"
     ]
    }
   ],
   "source": [
    "# indexing a matrix\n",
    "a = np.arange(9).reshape(3,3)\n",
    "\n",
    "print(a[:][-1])\n",
    "print(a[1:, 2])"
   ]
  },
  {
   "cell_type": "code",
   "execution_count": 106,
   "metadata": {},
   "outputs": [
    {
     "name": "stdout",
     "output_type": "stream",
     "text": [
      "[[[ 0  1]\n",
      "  [ 2  3]\n",
      "  [ 4  5]]\n",
      "\n",
      " [[ 6  7]\n",
      "  [ 8  9]\n",
      "  [10 11]]\n",
      "\n",
      " [[12 13]\n",
      "  [14 15]\n",
      "  [16 17]]\n",
      "\n",
      " [[18 19]\n",
      "  [20 21]\n",
      "  [22 23]]]\n",
      "\n",
      "[[ 0  2  4]\n",
      " [ 6  8 10]]\n"
     ]
    }
   ],
   "source": [
    "# indexing and slicing a 3D tensor\n",
    "a = np.arange(4*3*2).reshape((4, 3, 2))\n",
    "print(a, end='\\n\\n')\n",
    "\n",
    "# print(a[0], end='\\n\\n')\n",
    "# print(a[0, 1], end='\\n\\n')\n",
    "print(a[:2, :, 0])"
   ]
  },
  {
   "cell_type": "code",
   "execution_count": 110,
   "metadata": {},
   "outputs": [
    {
     "name": "stdout",
     "output_type": "stream",
     "text": [
      "[[0 1]\n",
      " [2 3]\n",
      " [4 5]]\n",
      "\n",
      "[[ True False]\n",
      " [ True False]\n",
      " [ True False]]\n",
      "\n",
      "[3 4 5]\n"
     ]
    }
   ],
   "source": [
    "# conditional index\n",
    "a = np.arange(3*2).reshape((3,2))\n",
    "print(a, end='\\n\\n')\n",
    "\n",
    "idx = a % 2 == 0\n",
    "print(idx, end='\\n\\n')\n",
    "\n",
    "print(a[a>=3])"
   ]
  },
  {
   "cell_type": "code",
   "execution_count": 113,
   "metadata": {},
   "outputs": [
    {
     "name": "stdout",
     "output_type": "stream",
     "text": [
      "[[0 1 2 3]\n",
      " [4 5 6 7]]\n",
      "\n",
      "[0 5 2 7]\n",
      "[0 5 2 7]\n"
     ]
    }
   ],
   "source": [
    "a = np.arange(2*4).reshape((2, 4))\n",
    "print(a, end='\\n\\n')\n",
    "\n",
    "idx = ((0, 1, 0, 1), (0, 1, 2, 3))\n",
    "print(a[idx])\n",
    "print(a[(0, 1, 0, 1), (0, 1, 2, 3)])"
   ]
  },
  {
   "cell_type": "code",
   "execution_count": 120,
   "metadata": {},
   "outputs": [
    {
     "data": {
      "text/plain": [
       "array([[[4, 5, 6, 7],\n",
       "        [0, 1, 2, 3]],\n",
       "\n",
       "       [[4, 5, 6, 7],\n",
       "        [4, 5, 6, 7]]])"
      ]
     },
     "execution_count": 120,
     "metadata": {},
     "output_type": "execute_result"
    }
   ],
   "source": [
    "idx = np.array([[1, 0], [1, 1]])\n",
    "a[idx]"
   ]
  },
  {
   "cell_type": "code",
   "execution_count": 125,
   "metadata": {},
   "outputs": [
    {
     "name": "stdout",
     "output_type": "stream",
     "text": [
      "[[0 1]\n",
      " [2 3]\n",
      " [4 5]]\n",
      "\n",
      "[[1. 1. 1.]\n",
      " [1. 1. 1.]]\n",
      "\n",
      "[[1. 1. 1.]\n",
      " [5. 5. 5.]\n",
      " [9. 9. 9.]]\n",
      "\n",
      "[[1. 1. 1.]\n",
      " [5. 5. 5.]\n",
      " [9. 9. 9.]]\n",
      "\n",
      "[[1. 1. 1.]\n",
      " [5. 5. 5.]\n",
      " [9. 9. 9.]]\n"
     ]
    }
   ],
   "source": [
    "a = np.arange(6).reshape((3, 2))\n",
    "b = np.ones((2, 3))\n",
    "\n",
    "print(a, end='\\n\\n')\n",
    "print(b, end='\\n\\n')\n",
    "\n",
    "print(np.dot(a, b), end='\\n\\n')\n",
    "print(a@b, end='\\n\\n')\n",
    "print(np.matmul(a, b))"
   ]
  },
  {
   "cell_type": "code",
   "execution_count": 129,
   "metadata": {},
   "outputs": [
    {
     "name": "stdout",
     "output_type": "stream",
     "text": [
      "[[[ 0  1]\n",
      "  [ 2  3]\n",
      "  [ 4  5]]\n",
      "\n",
      " [[ 6  7]\n",
      "  [ 8  9]\n",
      "  [10 11]]]\n",
      "\n",
      "[[ 0  1]\n",
      " [ 2  3]\n",
      " [ 4  5]\n",
      " [ 6  7]\n",
      " [ 8  9]\n",
      " [10 11]]\n",
      "\n",
      "[[[ 0  1]\n",
      "  [ 2  3]]\n",
      "\n",
      " [[ 4  5]\n",
      "  [ 6  7]]\n",
      "\n",
      " [[ 8  9]\n",
      "  [10 11]]]\n",
      "\n"
     ]
    }
   ],
   "source": [
    "a = np.arange(12).reshape((2,3,2))\n",
    "print(a, end='\\n\\n')\n",
    "\n",
    "b = a.reshape(6, -1)    # -1 in reshape does the calculation for me\n",
    "print(b, end='\\n\\n')\n",
    "\n",
    "b = a.reshape((-1, 2, 2))\n",
    "print(b, end='\\n\\n')"
   ]
  },
  {
   "cell_type": "code",
   "execution_count": 130,
   "metadata": {},
   "outputs": [
    {
     "name": "stdout",
     "output_type": "stream",
     "text": [
      "[0 1 2]\n",
      "\n",
      "[[0]\n",
      " [1]\n",
      " [2]]\n"
     ]
    }
   ],
   "source": [
    "# adding an extra dimension to a matrix\n",
    "a = np.arange(3)\n",
    "print(a, end='\\n\\n')\n",
    "\n",
    "print(a[:, None])"
   ]
  },
  {
   "cell_type": "code",
   "execution_count": 138,
   "metadata": {},
   "outputs": [
    {
     "name": "stdout",
     "output_type": "stream",
     "text": [
      "[[1. 1.]\n",
      " [1. 1.]\n",
      " [1. 1.]]\n",
      "\n",
      "[[0. 0.]\n",
      " [0. 0.]\n",
      " [0. 0.]]\n",
      "\n",
      "[[1. 1.]\n",
      " [1. 1.]\n",
      " [1. 1.]\n",
      " [0. 0.]\n",
      " [0. 0.]\n",
      " [0. 0.]]\n",
      "\n",
      "[[1. 1. 0. 0.]\n",
      " [1. 1. 0. 0.]\n",
      " [1. 1. 0. 0.]]\n"
     ]
    }
   ],
   "source": [
    "a = np.ones((3, 2))\n",
    "b = np.zeros((3, 2))\n",
    "\n",
    "print(a, end='\\n\\n')\n",
    "print(b, end='\\n\\n')\n",
    "\n",
    "# print(np.vstack([a, b]), end='\\n\\n')\n",
    "# print(np.hstack([a, b]), end='\\n\\n')\n",
    "# print(np.hstack([a, b, a]), end='\\n\\n')\n",
    "\n",
    "print(np.concatenate([a, b], axis=0), end='\\n\\n')\n",
    "print(np.concatenate([a, b], axis=1))"
   ]
  },
  {
   "cell_type": "code",
   "execution_count": 139,
   "metadata": {},
   "outputs": [
    {
     "name": "stdout",
     "output_type": "stream",
     "text": [
      "[[[ 0  1]\n",
      "  [ 2  3]\n",
      "  [ 4  5]]\n",
      "\n",
      " [[ 6  7]\n",
      "  [ 8  9]\n",
      "  [10 11]]\n",
      "\n",
      " [[12 13]\n",
      "  [14 15]\n",
      "  [16 17]]\n",
      "\n",
      " [[18 19]\n",
      "  [20 21]\n",
      "  [22 23]]]\n",
      "\n",
      "[[[ 0  2  4]\n",
      "  [ 1  3  5]]\n",
      "\n",
      " [[ 6  8 10]\n",
      "  [ 7  9 11]]\n",
      "\n",
      " [[12 14 16]\n",
      "  [13 15 17]]\n",
      "\n",
      " [[18 20 22]\n",
      "  [19 21 23]]]\n",
      "\n"
     ]
    }
   ],
   "source": [
    "a = np.arange(24).reshape((4, 3, 2))\n",
    "print(a, end='\\n\\n')\n",
    "\n",
    "b = np.transpose(a, [0, 2, 1])\n",
    "print(b, end='\\n\\n')"
   ]
  },
  {
   "cell_type": "code",
   "execution_count": 140,
   "metadata": {},
   "outputs": [
    {
     "data": {
      "text/plain": [
       "array([[[ 0,  1],\n",
       "        [ 6,  7],\n",
       "        [12, 13],\n",
       "        [18, 19]],\n",
       "\n",
       "       [[ 2,  3],\n",
       "        [ 8,  9],\n",
       "        [14, 15],\n",
       "        [20, 21]],\n",
       "\n",
       "       [[ 4,  5],\n",
       "        [10, 11],\n",
       "        [16, 17],\n",
       "        [22, 23]]])"
      ]
     },
     "execution_count": 140,
     "metadata": {},
     "output_type": "execute_result"
    }
   ],
   "source": [
    "c = np.transpose(a, [1, 0, 2])\n",
    "c"
   ]
  },
  {
   "cell_type": "code",
   "execution_count": 141,
   "metadata": {},
   "outputs": [],
   "source": [
    "# broadcasting\n",
    "# even if shape of matrices don't match, numpy matches the shape via broadcasting"
   ]
  },
  {
   "cell_type": "code",
   "execution_count": 142,
   "metadata": {},
   "outputs": [],
   "source": [
    "def sigmoid(x):\n",
    "    return 1. / (1. + np.exp(-x))\n",
    "\n",
    "def foo(M, W):\n",
    "    return 0"
   ]
  },
  {
   "cell_type": "code",
   "execution_count": 174,
   "metadata": {},
   "outputs": [],
   "source": [
    "def M(m, n):\n",
    "    a = np.arange(m*n).reshape((m, n))\n",
    "    print(a, end='\\n\\n')\n",
    "\n",
    "    m_half = round(m/2)\n",
    "\n",
    "    b = a[:m_half]\n",
    "    print(b, end='\\n\\n')\n",
    "    c = a[m_half:]\n",
    "    print(c, end='\\n\\n')\n",
    "\n",
    "    d = a[1: :2]\n",
    "    print(d, end='\\n\\n')\n",
    "    e = a[0: :2]\n",
    "    print(e, end='\\n\\n')\n",
    "\n",
    "    X = np.concatenate([b, c, d, e], axis=1)\n",
    "    print(X, end='\\n\\n')\n",
    "    print(X.shape, end='\\n\\n')\n",
    "\n",
    "    def W(n):\n",
    "        f = np.arange(4*n*n).reshape((4*n, n))\n",
    "        return f\n",
    "    \n",
    "    g = np.sum(X.mean(axis=0))\n",
    "    print(g, end='\\n\\n')"
   ]
  },
  {
   "cell_type": "code",
   "execution_count": 173,
   "metadata": {},
   "outputs": [
    {
     "name": "stdout",
     "output_type": "stream",
     "text": [
      "[[0 1]\n",
      " [2 3]\n",
      " [4 5]\n",
      " [6 7]]\n",
      "\n",
      "[[0 1]\n",
      " [2 3]]\n",
      "\n",
      "[[4 5]\n",
      " [6 7]]\n",
      "\n",
      "[[2 3]\n",
      " [6 7]]\n",
      "\n",
      "[[0 1]\n",
      " [4 5]]\n",
      "\n",
      "[[0 1 4 5 2 3 0 1]\n",
      " [2 3 6 7 6 7 4 5]]\n",
      "\n",
      "(2, 8)\n",
      "\n",
      "28.0\n",
      "\n"
     ]
    }
   ],
   "source": [
    "M(4, 2)"
   ]
  },
  {
   "cell_type": "code",
   "execution_count": null,
   "metadata": {},
   "outputs": [],
   "source": []
  }
 ],
 "metadata": {
  "interpreter": {
   "hash": "0a6f0236100a25fedb96dd72ba2d7dd42bd6265e8c9814c4d22f34b2c50964d1"
  },
  "kernelspec": {
   "display_name": "Python 3.6.8 ('.venv': venv)",
   "language": "python",
   "name": "python3"
  },
  "language_info": {
   "codemirror_mode": {
    "name": "ipython",
    "version": 3
   },
   "file_extension": ".py",
   "mimetype": "text/x-python",
   "name": "python",
   "nbconvert_exporter": "python",
   "pygments_lexer": "ipython3",
   "version": "3.6.8"
  },
  "orig_nbformat": 4
 },
 "nbformat": 4,
 "nbformat_minor": 2
}
